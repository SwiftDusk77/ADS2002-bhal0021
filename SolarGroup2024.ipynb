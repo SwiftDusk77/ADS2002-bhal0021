{
  "nbformat": 4,
  "nbformat_minor": 0,
  "metadata": {
    "colab": {
      "provenance": [],
      "collapsed_sections": [
        "Z7PU4hGFuyR0",
        "UomHlJ5zuMVA",
        "re1ecsAdumKV",
        "DfnKbaH7uiGV",
        "zwkHVPmqueuA",
        "TvgX0oJkucBK",
        "3noUeknAtwJ3",
        "w6ThCfLGodOn",
        "m_vD1w5zojD4",
        "ieBPjM69Guvk",
        "UI5LcGg7G9dE",
        "AN82x8W_HCMI"
      ],
      "include_colab_link": true
    },
    "kernelspec": {
      "name": "python3",
      "display_name": "Python 3"
    },
    "language_info": {
      "name": "python"
    }
  },
  "cells": [
    {
      "cell_type": "markdown",
      "metadata": {
        "id": "view-in-github",
        "colab_type": "text"
      },
      "source": [
        "<a href=\"https://colab.research.google.com/github/SwiftDusk77/ADS2002-bhal0021/blob/main/SolarGroup2024.ipynb\" target=\"_parent\"><img src=\"https://colab.research.google.com/assets/colab-badge.svg\" alt=\"Open In Colab\"/></a>"
      ]
    },
    {
      "cell_type": "markdown",
      "source": [
        "#Notes\n"
      ],
      "metadata": {
        "id": "inZGCLDcUyP8"
      }
    },
    {
      "cell_type": "markdown",
      "source": [
        "##Group Communications"
      ],
      "metadata": {
        "id": "Z7PU4hGFuyR0"
      }
    },
    {
      "cell_type": "markdown",
      "source": [
        "This is where we can write notes to one another about what we did or how we've impacted what someone else has done"
      ],
      "metadata": {
        "id": "XlQsGpcwvhWT"
      }
    },
    {
      "cell_type": "markdown",
      "source": [
        "##Notes on Neural Networks"
      ],
      "metadata": {
        "id": "UomHlJ5zuMVA"
      }
    },
    {
      "cell_type": "markdown",
      "source": [
        "###General Notes"
      ],
      "metadata": {
        "id": "re1ecsAdumKV"
      }
    },
    {
      "cell_type": "markdown",
      "source": [],
      "metadata": {
        "id": "ZVv7d7MvuoP8"
      }
    },
    {
      "cell_type": "markdown",
      "source": [
        "###LSTM"
      ],
      "metadata": {
        "id": "DfnKbaH7uiGV"
      }
    },
    {
      "cell_type": "markdown",
      "source": [],
      "metadata": {
        "id": "JEh5g-4aujv-"
      }
    },
    {
      "cell_type": "markdown",
      "source": [
        "###GRU"
      ],
      "metadata": {
        "id": "zwkHVPmqueuA"
      }
    },
    {
      "cell_type": "markdown",
      "source": [],
      "metadata": {
        "id": "A_k0t2mxukV3"
      }
    },
    {
      "cell_type": "markdown",
      "source": [
        "###CNN"
      ],
      "metadata": {
        "id": "TvgX0oJkucBK"
      }
    },
    {
      "cell_type": "markdown",
      "source": [],
      "metadata": {
        "id": "JxbaFuNqud6f"
      }
    },
    {
      "cell_type": "markdown",
      "source": [
        "##Tasks"
      ],
      "metadata": {
        "id": "3noUeknAtwJ3"
      }
    },
    {
      "cell_type": "markdown",
      "source": [
        "Import Database as CSV into google colab\n",
        "\n",
        "Understand and explain how CNN, GRU and LSTM works\n",
        "\n"
      ],
      "metadata": {
        "id": "Kq9d8DCqt51n"
      }
    },
    {
      "cell_type": "markdown",
      "source": [
        "## Space Knowledge"
      ],
      "metadata": {
        "id": "w6ThCfLGodOn"
      }
    },
    {
      "cell_type": "markdown",
      "source": [
        "###**Article:** universe today; predicting solar storms before they leave the sun\n"
      ],
      "metadata": {
        "id": "m_vD1w5zojD4"
      }
    },
    {
      "cell_type": "markdown",
      "source": [
        "\n",
        "*Our Sun goes through periods where it is more “outbursty” than others. Some of the strongest solar storms occur during the solar maximum part of the Sun’s 11-year sunspot cycle.*\n",
        "\n",
        "*“By measuring how the strength of the magnetic field decreases with height, we can determine this critical height,The team found a very strong relationship between the critical height of the CME as it gets started and its true speed as it moves out. “This insight allows us to predict the CME’s speed and, consequently, its arrival time on Earth, even before the CME has fully erupted,”*\n",
        "*famous storm occurred on March 13, 1989. It was a combo of two CMEs that lifted off the Sun on March 10th and March 12th. They stirred up currents low in Earth’s atmosphere at the same time they triggered auroral displays. At the time, power grids were not necessarily “hardened” against such events. As a result, the Hydro-Quebec power grid shut down and suffered tremendous damage. The power was out for days across eastern Canada and parts of the United States.*\n",
        "\n",
        "*Another huge storm hit around Halloween in 2003*\n",
        "\n",
        "*able to predict where and when these reconnection events were likely to occur using magnetic and imaging data from NASA’s Solar Dynamics Observatory (SDO).*\n",
        "\n"
      ],
      "metadata": {
        "id": "ba_lVXBOUyQP"
      }
    },
    {
      "cell_type": "markdown",
      "source": [
        "# Import Librarys"
      ],
      "metadata": {
        "id": "ieBPjM69Guvk"
      }
    },
    {
      "cell_type": "markdown",
      "source": [
        "general libraries"
      ],
      "metadata": {
        "id": "GOa6yZcwKc53"
      }
    },
    {
      "cell_type": "code",
      "execution_count": null,
      "metadata": {
        "id": "YVebVIya9O0g"
      },
      "outputs": [],
      "source": [
        "import pandas as pd\n",
        "import numpy as np\n",
        "import matplotlib.pyplot as plt\n",
        "import seaborn as sns\n",
        "import scipy.optimize as scp\n",
        "import os\n",
        "import glob"
      ]
    },
    {
      "cell_type": "markdown",
      "source": [
        "metrics"
      ],
      "metadata": {
        "id": "WNFxxD6UKfKe"
      }
    },
    {
      "cell_type": "code",
      "source": [
        "\n",
        "from sklearn.tree import DecisionTreeClassifier, plot_tree\n",
        "from sklearn.ensemble import BaggingClassifier, RandomForestClassifier\n",
        "from sklearn.model_selection import train_test_split\n",
        "from sklearn.metrics import confusion_matrix, accuracy_score\n",
        "from sklearn.decomposition import PCA\n",
        "from sklearn.linear_model import LogisticRegression\n",
        "from sklearn.metrics import accuracy_score, precision_score, recall_score\n",
        "from sklearn.preprocessing import StandardScaler\n",
        "from sklearn.svm import SVR\n",
        "from sklearn.metrics import mean_squared_error, r2_score\n",
        "from sklearn.model_selection import GridSearchCV"
      ],
      "metadata": {
        "id": "98qljOOGJnqF"
      },
      "execution_count": null,
      "outputs": []
    },
    {
      "cell_type": "markdown",
      "source": [
        "# Import Data"
      ],
      "metadata": {
        "id": "UI5LcGg7G9dE"
      }
    },
    {
      "cell_type": "markdown",
      "source": [
        "if this doesn't work on your laptop, ensure \"SolarGroup2024_Shared_Files\" is saved into your MyDrive, into your google colab folder, and your drive is mounted to your google colab"
      ],
      "metadata": {
        "id": "Z5PPNm1VKVY0"
      }
    },
    {
      "cell_type": "code",
      "source": [
        "from google.colab import drive\n",
        "drive.mount('/content/drive')"
      ],
      "metadata": {
        "colab": {
          "base_uri": "https://localhost:8080/"
        },
        "id": "MUpEJMAYMfpY",
        "outputId": "d71a1329-0622-4d94-fef1-dc23523711b8"
      },
      "execution_count": null,
      "outputs": [
        {
          "output_type": "stream",
          "name": "stdout",
          "text": [
            "Drive already mounted at /content/drive; to attempt to forcibly remount, call drive.mount(\"/content/drive\", force_remount=True).\n"
          ]
        }
      ]
    },
    {
      "cell_type": "code",
      "source": [
        "Car_data = pd.read_csv('/content/drive/MyDrive/Colab Notebooks/SolarGroup2024_Shared_Files/mtcars.csv')"
      ],
      "metadata": {
        "id": "mG-Vp4W3FvQ0"
      },
      "execution_count": null,
      "outputs": []
    },
    {
      "cell_type": "markdown",
      "source": [
        "# New Section"
      ],
      "metadata": {
        "id": "AN82x8W_HCMI"
      }
    },
    {
      "cell_type": "code",
      "source": [
        "print(Car_data)"
      ],
      "metadata": {
        "colab": {
          "base_uri": "https://localhost:8080/"
        },
        "id": "BOmcjMYd9-qB",
        "outputId": "6c6c5240-bbd0-414f-fd9e-452a861c0937"
      },
      "execution_count": null,
      "outputs": [
        {
          "output_type": "stream",
          "name": "stdout",
          "text": [
            "             Unnamed: 0   mpg  cyl   disp   hp  drat     wt   qsec  vs  am  \\\n",
            "0             Mazda RX4  21.0    6  160.0  110  3.90  2.620  16.46   0   1   \n",
            "1         Mazda RX4 Wag  21.0    6  160.0  110  3.90  2.875  17.02   0   1   \n",
            "2            Datsun 710  22.8    4  108.0   93  3.85  2.320  18.61   1   1   \n",
            "3        Hornet 4 Drive  21.4    6  258.0  110  3.08  3.215  19.44   1   0   \n",
            "4     Hornet Sportabout  18.7    8  360.0  175  3.15  3.440  17.02   0   0   \n",
            "5               Valiant  18.1    6  225.0  105  2.76  3.460  20.22   1   0   \n",
            "6            Duster 360  14.3    8  360.0  245  3.21  3.570  15.84   0   0   \n",
            "7             Merc 240D  24.4    4  146.7   62  3.69  3.190  20.00   1   0   \n",
            "8              Merc 230  22.8    4  140.8   95  3.92  3.150  22.90   1   0   \n",
            "9              Merc 280  19.2    6  167.6  123  3.92  3.440  18.30   1   0   \n",
            "10            Merc 280C  17.8    6  167.6  123  3.92  3.440  18.90   1   0   \n",
            "11           Merc 450SE  16.4    8  275.8  180  3.07  4.070  17.40   0   0   \n",
            "12           Merc 450SL  17.3    8  275.8  180  3.07  3.730  17.60   0   0   \n",
            "13          Merc 450SLC  15.2    8  275.8  180  3.07  3.780  18.00   0   0   \n",
            "14   Cadillac Fleetwood  10.4    8  472.0  205  2.93  5.250  17.98   0   0   \n",
            "15  Lincoln Continental  10.4    8  460.0  215  3.00  5.424  17.82   0   0   \n",
            "16    Chrysler Imperial  14.7    8  440.0  230  3.23  5.345  17.42   0   0   \n",
            "17             Fiat 128  32.4    4   78.7   66  4.08  2.200  19.47   1   1   \n",
            "18          Honda Civic  30.4    4   75.7   52  4.93  1.615  18.52   1   1   \n",
            "19       Toyota Corolla  33.9    4   71.1   65  4.22  1.835  19.90   1   1   \n",
            "20        Toyota Corona  21.5    4  120.1   97  3.70  2.465  20.01   1   0   \n",
            "21     Dodge Challenger  15.5    8  318.0  150  2.76  3.520  16.87   0   0   \n",
            "22          AMC Javelin  15.2    8  304.0  150  3.15  3.435  17.30   0   0   \n",
            "23           Camaro Z28  13.3    8  350.0  245  3.73  3.840  15.41   0   0   \n",
            "24     Pontiac Firebird  19.2    8  400.0  175  3.08  3.845  17.05   0   0   \n",
            "25            Fiat X1-9  27.3    4   79.0   66  4.08  1.935  18.90   1   1   \n",
            "26        Porsche 914-2  26.0    4  120.3   91  4.43  2.140  16.70   0   1   \n",
            "27         Lotus Europa  30.4    4   95.1  113  3.77  1.513  16.90   1   1   \n",
            "28       Ford Pantera L  15.8    8  351.0  264  4.22  3.170  14.50   0   1   \n",
            "29         Ferrari Dino  19.7    6  145.0  175  3.62  2.770  15.50   0   1   \n",
            "30        Maserati Bora  15.0    8  301.0  335  3.54  3.570  14.60   0   1   \n",
            "31           Volvo 142E  21.4    4  121.0  109  4.11  2.780  18.60   1   1   \n",
            "\n",
            "    gear  carb  \n",
            "0      4     4  \n",
            "1      4     4  \n",
            "2      4     1  \n",
            "3      3     1  \n",
            "4      3     2  \n",
            "5      3     1  \n",
            "6      3     4  \n",
            "7      4     2  \n",
            "8      4     2  \n",
            "9      4     4  \n",
            "10     4     4  \n",
            "11     3     3  \n",
            "12     3     3  \n",
            "13     3     3  \n",
            "14     3     4  \n",
            "15     3     4  \n",
            "16     3     4  \n",
            "17     4     1  \n",
            "18     4     2  \n",
            "19     4     1  \n",
            "20     3     1  \n",
            "21     3     2  \n",
            "22     3     2  \n",
            "23     3     4  \n",
            "24     3     2  \n",
            "25     4     1  \n",
            "26     5     2  \n",
            "27     5     2  \n",
            "28     5     4  \n",
            "29     5     6  \n",
            "30     5     8  \n",
            "31     4     2  \n"
          ]
        }
      ]
    },
    {
      "cell_type": "code",
      "source": [
        "from google_"
      ],
      "metadata": {
        "id": "3uoCoyX--AW7"
      },
      "execution_count": null,
      "outputs": []
    },
    {
      "cell_type": "code",
      "source": [],
      "metadata": {
        "id": "ia8ctKb8-NOk"
      },
      "execution_count": null,
      "outputs": []
    },
    {
      "cell_type": "code",
      "source": [],
      "metadata": {
        "id": "JcWtxzWv-RUs"
      },
      "execution_count": null,
      "outputs": []
    }
  ]
}